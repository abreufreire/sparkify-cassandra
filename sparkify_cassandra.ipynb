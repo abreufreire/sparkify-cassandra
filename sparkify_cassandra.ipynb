{
 "cells": [
  {
   "cell_type": "markdown",
   "metadata": {},
   "source": [
    "### Part I. ETL pipeline: pre-processing files"
   ]
  },
  {
   "cell_type": "code",
   "execution_count": 1,
   "metadata": {},
   "outputs": [],
   "source": [
    "import pandas as pd\n",
    "from cassandra.cluster import Cluster\n",
    "import os\n",
    "import glob\n",
    "import csv"
   ]
  },
  {
   "cell_type": "markdown",
   "metadata": {},
   "source": [
    "#### List of filepaths to process raw csv data files (event_data)"
   ]
  },
  {
   "cell_type": "code",
   "execution_count": 2,
   "metadata": {},
   "outputs": [
    {
     "name": "stdout",
     "output_type": "stream",
     "text": [
      "/Users/abreu/Developer/GitHub/sparkify-cassandra\n",
      "\n",
      "Total csv files:  30\n"
     ]
    }
   ],
   "source": [
    "print(os.getcwd())\n",
    "\n",
    "# current dir of event data\n",
    "filepath = os.getcwd() + '/event_data'\n",
    "\n",
    "# create list of files & collect each filepath\n",
    "for root, dirs, files in os.walk(filepath):\n",
    "    # join the file path and roots with the subdirectories using glob\n",
    "    file_path_list = glob.glob(os.path.join(root,'*'))\n",
    "    print('\\nTotal csv files: ', len(file_path_list))"
   ]
  },
  {
   "cell_type": "markdown",
   "metadata": {},
   "source": [
    "#### Process the files to create the *csv* that will be used as data source for Casssandra tables"
   ]
  },
  {
   "cell_type": "code",
   "execution_count": 3,
   "metadata": {},
   "outputs": [
    {
     "name": "stdout",
     "output_type": "stream",
     "text": [
      "\n",
      "Total data rows:  8056\n",
      "\n",
      "Total valid data rows:  6821\n"
     ]
    }
   ],
   "source": [
    "full_data_rows_list = [] \n",
    "    \n",
    "# read data in every csv in list & append to list\n",
    "for f in file_path_list:\n",
    "    with open(f, 'r', encoding = 'utf8', newline='') as csvfile:\n",
    "        # create a csv reader object\n",
    "        csvreader = csv.reader(csvfile)\n",
    "        # skip header\n",
    "        next(csvreader)\n",
    "\n",
    "        for line in csvreader:\n",
    "            full_data_rows_list.append(line)\n",
    "            \n",
    "# total number of rows\n",
    "print('\\nTotal data rows: ', len(full_data_rows_list))\n",
    "\n",
    "\n",
    "# create event_datafile_new.csv as source data for Cassandra tables\n",
    "csv.register_dialect('myDialect', quoting=csv.QUOTE_ALL, skipinitialspace=True)\n",
    "\n",
    "with open('event_datafile_new.csv', 'w', encoding='utf8', newline='') as f:\n",
    "    writer = csv.writer(f, dialect='myDialect')\n",
    "    writer.writerow(['artist', 'first_name', 'gender', 'item_in_session', 'last_name', 'length', 'level', 'location',\n",
    "                     'session_id', 'song', 'user_id'])\n",
    "\n",
    "    # write valid song data (artist & nextsong related records) into csv\n",
    "    for row in full_data_rows_list:\n",
    "        if row[0] == '':\n",
    "            continue\n",
    "        writer.writerow((row[0], row[2], row[3], row[4], row[5], row[6], row[7], row[8], row[12], row[13], row[16]))\n",
    "\n",
    "with open('event_datafile_new.csv', 'r', encoding = 'utf8') as f:\n",
    "    print('\\nTotal valid data rows: ', sum(1 for line in f))"
   ]
  },
  {
   "cell_type": "markdown",
   "metadata": {},
   "source": [
    "### Part II. Apache Cassandra code\n",
    "\n",
    "#### CSV file - <font color=red>*event_datafile_new.csv*</font> - contains the columns:\n",
    "- artist \n",
    "- firstName of user\n",
    "- gender of user\n",
    "- item number in session\n",
    "- last name of user\n",
    "- length of the song\n",
    "- level (paid or free song)\n",
    "- location of the user\n",
    "- sessionId\n",
    "- song title\n",
    "- userId\n",
    "\n",
    "Note: Screenshot of denormalized data in <font color=red>*event_datafile_new.csv*</font> after running code above:<br>\n",
    "\n",
    "<img src=\"images/image_event_datafile_new.jpg\">"
   ]
  },
  {
   "cell_type": "markdown",
   "metadata": {},
   "source": [
    "#### Creat Cluster"
   ]
  },
  {
   "cell_type": "code",
   "execution_count": 4,
   "metadata": {},
   "outputs": [],
   "source": [
    "# connect to a Cassandra instance (local machine: 127.0.0.1)\n",
    "try:\n",
    "    cluster = Cluster(['127.0.0.1'], port=9042)\n",
    "    session = cluster.connect()\n",
    "except Exception as e:\n",
    "    print(e)"
   ]
  },
  {
   "cell_type": "markdown",
   "metadata": {},
   "source": [
    "#### Create Keyspace"
   ]
  },
  {
   "cell_type": "code",
   "execution_count": 5,
   "metadata": {},
   "outputs": [],
   "source": [
    "try:\n",
    "    session.execute(\"\"\"\n",
    "    CREATE KEYSPACE IF NOT EXISTS sparkify\n",
    "        WITH REPLICATION = {\n",
    "            'class': 'SimpleStrategy',\n",
    "            'replication_factor': 1\n",
    "        }\n",
    "    \"\"\")\n",
    "except Exception as e:\n",
    "    print(e)"
   ]
  },
  {
   "cell_type": "markdown",
   "metadata": {},
   "source": [
    "#### Set Keyspace"
   ]
  },
  {
   "cell_type": "code",
   "execution_count": 6,
   "metadata": {},
   "outputs": [],
   "source": [
    "try:\n",
    "    session.set_keyspace('sparkify')\n",
    "except Exception as e:\n",
    "    print(e)"
   ]
  },
  {
   "cell_type": "markdown",
   "metadata": {},
   "source": [
    "### Create tables to run the following 3 queries\n",
    "\n",
    "#### <font color=green> 1. Give me the artist, song title and song's length in the music app history that was heard during  sessionId = 338, and itemInSession  = 4 </font>\n",
    "\n",
    "#### <font color=blue> 2. Give me only the following: name of artist, song (sorted by itemInSession) and user (first and last name) for userid = 10, sessionid = 182 </font>\n",
    "\n",
    "#### <font color=orange> 3. Give me every user name (first and last) in my music app history who listened to the song 'All Hands Against His Own' </font>"
   ]
  },
  {
   "cell_type": "markdown",
   "source": [
    "#### File (csv): source of data"
   ],
   "metadata": {
    "collapsed": false,
    "pycharm": {
     "name": "#%% md\n"
    }
   }
  },
  {
   "cell_type": "code",
   "execution_count": 7,
   "outputs": [],
   "source": [
    "file = 'event_datafile_new.csv'\n",
    "df = pd.read_csv(file, encoding='utf8')"
   ],
   "metadata": {
    "collapsed": false,
    "pycharm": {
     "name": "#%%\n"
    }
   }
  },
  {
   "cell_type": "markdown",
   "source": [
    "#### Query 1 needs table: session_metadata"
   ],
   "metadata": {
    "collapsed": false
   }
  },
  {
   "cell_type": "code",
   "execution_count": 8,
   "metadata": {
    "pycharm": {
     "name": "#%%\n"
    }
   },
   "outputs": [],
   "source": [
    "create_query_1 = \"CREATE TABLE IF NOT EXISTS session_metadata \"\n",
    "create_query_1 = create_query_1 + \"(session_id INT, item_in_session INT, artist TEXT, song TEXT,  length DECIMAL, \" \\\n",
    "    \"PRIMARY KEY (session_id, item_in_session))\"\n",
    "\n",
    "try:\n",
    "    session.execute(create_query_1)\n",
    "except Exception as e:\n",
    "    print(e)"
   ]
  },
  {
   "cell_type": "code",
   "execution_count": 9,
   "metadata": {
    "scrolled": false
   },
   "outputs": [],
   "source": [
    "# load data into session_metadata\n",
    "for i, row in df.iterrows():\n",
    "    insert_query = \"INSERT INTO session_metadata (session_id, item_in_session, artist, song, length) \"\n",
    "    insert_query = insert_query + \"VALUES (%s, %s, %s, %s, %s)\"\n",
    "    try:\n",
    "        session.execute(insert_query, (row.session_id, row.item_in_session, row.artist, row.song, row.length))\n",
    "    except Exception as e:\n",
    "        print(e)"
   ]
  },
  {
   "cell_type": "code",
   "metadata": {
    "pycharm": {
     "name": "#%%\n"
    }
   },
   "source": [
    "select_query = \"SELECT artist, song, length FROM session_metadata WHERE session_id = 338 AND item_in_session = 4\"\n",
    "try:\n",
    "    rows = session.execute(select_query)\n",
    "except Exception as e:\n",
    "    print(e)\n",
    "\n",
    "data = list(map(lambda row: list(row), rows))\n",
    "pd.DataFrame(data, columns=['artist', 'song', 'length'])\n"
   ],
   "execution_count": 10,
   "outputs": [
    {
     "data": {
      "text/plain": "      artist                             song    length\n0  Faithless  Music Matters (Mark Knight Dub)  495.3073",
      "text/html": "<div>\n<style scoped>\n    .dataframe tbody tr th:only-of-type {\n        vertical-align: middle;\n    }\n\n    .dataframe tbody tr th {\n        vertical-align: top;\n    }\n\n    .dataframe thead th {\n        text-align: right;\n    }\n</style>\n<table border=\"1\" class=\"dataframe\">\n  <thead>\n    <tr style=\"text-align: right;\">\n      <th></th>\n      <th>artist</th>\n      <th>song</th>\n      <th>length</th>\n    </tr>\n  </thead>\n  <tbody>\n    <tr>\n      <th>0</th>\n      <td>Faithless</td>\n      <td>Music Matters (Mark Knight Dub)</td>\n      <td>495.3073</td>\n    </tr>\n  </tbody>\n</table>\n</div>"
     },
     "execution_count": 10,
     "metadata": {},
     "output_type": "execute_result"
    }
   ]
  },
  {
   "cell_type": "markdown",
   "metadata": {},
   "source": [
    "#### Query 2 needs table: user_metadata"
   ]
  },
  {
   "cell_type": "code",
   "execution_count": 11,
   "metadata": {},
   "outputs": [],
   "source": [
    "create_query_2 = \"CREATE TABLE IF NOT EXISTS user_metadata \"\n",
    "create_query_2 = create_query_2 + \"(user_id INT, session_id INT, item_in_session INT, artist TEXT, song TEXT, \" \\\n",
    "                                  \"first_name TEXT, last_name TEXT, \" \\\n",
    "                                  \"PRIMARY KEY (user_id, session_id, item_in_session))\"\n",
    "\n",
    "try:\n",
    "    session.execute(create_query_2)\n",
    "except Exception as e:\n",
    "    print(e)"
   ]
  },
  {
   "cell_type": "code",
   "execution_count": 12,
   "outputs": [],
   "source": [
    "# load data into user_metadata\n",
    "for i, row in df.iterrows():\n",
    "    insert_query = \"INSERT INTO user_metadata (user_id, session_id, item_in_session, artist, song, first_name, last_name) \"\n",
    "    insert_query = insert_query + \"VALUES (%s, %s, %s, %s, %s, %s, %s)\"\n",
    "    try:\n",
    "        session.execute(insert_query, (row.user_id, row.session_id, row.item_in_session, row.artist, row.song,\n",
    "                                       row.first_name, row.last_name))\n",
    "    except Exception as e:\n",
    "        print(e)"
   ],
   "metadata": {
    "collapsed": false,
    "pycharm": {
     "name": "#%%\n"
    }
   }
  },
  {
   "cell_type": "code",
   "execution_count": 13,
   "outputs": [
    {
     "data": {
      "text/plain": "              artist                                               song  \\\n0   Down To The Bone                                 Keep On Keepin' On   \n1       Three Drives                                        Greece 2000   \n2  Sebastien Tellier                                          Kilometer   \n3      Lonnie Gordon  Catch You Baby (Steve Pitron & Max Sanna Radio...   \n\n  first_name last_name  item_in_session  \n0     Sylvie      Cruz                0  \n1     Sylvie      Cruz                1  \n2     Sylvie      Cruz                2  \n3     Sylvie      Cruz                3  ",
      "text/html": "<div>\n<style scoped>\n    .dataframe tbody tr th:only-of-type {\n        vertical-align: middle;\n    }\n\n    .dataframe tbody tr th {\n        vertical-align: top;\n    }\n\n    .dataframe thead th {\n        text-align: right;\n    }\n</style>\n<table border=\"1\" class=\"dataframe\">\n  <thead>\n    <tr style=\"text-align: right;\">\n      <th></th>\n      <th>artist</th>\n      <th>song</th>\n      <th>first_name</th>\n      <th>last_name</th>\n      <th>item_in_session</th>\n    </tr>\n  </thead>\n  <tbody>\n    <tr>\n      <th>0</th>\n      <td>Down To The Bone</td>\n      <td>Keep On Keepin' On</td>\n      <td>Sylvie</td>\n      <td>Cruz</td>\n      <td>0</td>\n    </tr>\n    <tr>\n      <th>1</th>\n      <td>Three Drives</td>\n      <td>Greece 2000</td>\n      <td>Sylvie</td>\n      <td>Cruz</td>\n      <td>1</td>\n    </tr>\n    <tr>\n      <th>2</th>\n      <td>Sebastien Tellier</td>\n      <td>Kilometer</td>\n      <td>Sylvie</td>\n      <td>Cruz</td>\n      <td>2</td>\n    </tr>\n    <tr>\n      <th>3</th>\n      <td>Lonnie Gordon</td>\n      <td>Catch You Baby (Steve Pitron &amp; Max Sanna Radio...</td>\n      <td>Sylvie</td>\n      <td>Cruz</td>\n      <td>3</td>\n    </tr>\n  </tbody>\n</table>\n</div>"
     },
     "execution_count": 13,
     "metadata": {},
     "output_type": "execute_result"
    }
   ],
   "source": [
    "select_query = \"SELECT artist, song, first_name, last_name, item_in_session FROM user_metadata WHERE user_id = 10 AND session_id = 182\"\n",
    "try:\n",
    "    rows = session.execute(select_query)\n",
    "except Exception as e:\n",
    "    print(e)\n",
    "\n",
    "data = list(map(lambda row: list(row), rows))\n",
    "pd.DataFrame(data, columns=['artist', 'song', 'first_name', 'last_name', 'item_in_session'])"
   ],
   "metadata": {
    "collapsed": false,
    "pycharm": {
     "name": "#%%\n"
    }
   }
  },
  {
   "cell_type": "markdown",
   "source": [
    "#### Query 3 needs table: song_metadata"
   ],
   "metadata": {
    "collapsed": false
   }
  },
  {
   "cell_type": "code",
   "execution_count": 14,
   "outputs": [],
   "source": [
    "create_query_3 = \"CREATE TABLE IF NOT EXISTS song_metadata \"\n",
    "create_query_3 = create_query_3 + \"(song TEXT, user_id INT, first_name TEXT, last_name TEXT, PRIMARY KEY (song, user_id))\"\n",
    "\n",
    "try:\n",
    "    session.execute(create_query_3)\n",
    "except Exception as e:\n",
    "    print(e)"
   ],
   "metadata": {
    "collapsed": false,
    "pycharm": {
     "name": "#%%\n"
    }
   }
  },
  {
   "cell_type": "code",
   "execution_count": 15,
   "outputs": [],
   "source": [
    "# load data into song_metadata\n",
    "for i, row in df.iterrows():\n",
    "    insert_query = \"INSERT INTO song_metadata (song, user_id, first_name, last_name) \"\n",
    "    insert_query = insert_query + \"VALUES (%s, %s, %s, %s)\"\n",
    "    try:\n",
    "        session.execute(insert_query, (row.song, row.user_id, row.first_name, row.last_name))\n",
    "    except Exception as e:\n",
    "        print(e)\n"
   ],
   "metadata": {
    "collapsed": false,
    "pycharm": {
     "name": "#%%\n"
    }
   }
  },
  {
   "cell_type": "code",
   "execution_count": 16,
   "outputs": [
    {
     "data": {
      "text/plain": "                        song  first_name last_name\n0  All Hands Against His Own  Jacqueline     Lynch\n1  All Hands Against His Own       Tegan    Levine\n2  All Hands Against His Own        Sara   Johnson",
      "text/html": "<div>\n<style scoped>\n    .dataframe tbody tr th:only-of-type {\n        vertical-align: middle;\n    }\n\n    .dataframe tbody tr th {\n        vertical-align: top;\n    }\n\n    .dataframe thead th {\n        text-align: right;\n    }\n</style>\n<table border=\"1\" class=\"dataframe\">\n  <thead>\n    <tr style=\"text-align: right;\">\n      <th></th>\n      <th>song</th>\n      <th>first_name</th>\n      <th>last_name</th>\n    </tr>\n  </thead>\n  <tbody>\n    <tr>\n      <th>0</th>\n      <td>All Hands Against His Own</td>\n      <td>Jacqueline</td>\n      <td>Lynch</td>\n    </tr>\n    <tr>\n      <th>1</th>\n      <td>All Hands Against His Own</td>\n      <td>Tegan</td>\n      <td>Levine</td>\n    </tr>\n    <tr>\n      <th>2</th>\n      <td>All Hands Against His Own</td>\n      <td>Sara</td>\n      <td>Johnson</td>\n    </tr>\n  </tbody>\n</table>\n</div>"
     },
     "execution_count": 16,
     "metadata": {},
     "output_type": "execute_result"
    }
   ],
   "source": [
    "select_query = \"SELECT song, first_name, last_name FROM song_metadata WHERE song = 'All Hands Against His Own'\"\n",
    "try:\n",
    "    rows = session.execute(select_query)\n",
    "except Exception as e:\n",
    "    print(e)\n",
    "\n",
    "data = list(map(lambda row: list(row), rows))\n",
    "pd.DataFrame(data, columns=['song', 'first_name', 'last_name'])"
   ],
   "metadata": {
    "collapsed": false,
    "pycharm": {
     "name": "#%%\n"
    }
   }
  },
  {
   "cell_type": "markdown",
   "metadata": {},
   "source": [
    "#### Drop tables"
   ]
  },
  {
   "cell_type": "code",
   "execution_count": 17,
   "metadata": {},
   "outputs": [],
   "source": [
    "session_metadata_drop = \"DROP TABLE IF EXISTS session_metadata\"\n",
    "user_metadata_drop = \"DROP TABLE IF EXISTS user_metadata\"\n",
    "song_metadata_drop = \"DROP TABLE IF EXISTS song_metadata\"\n",
    "\n",
    "drop_table_queries = [session_metadata_drop, user_metadata_drop, song_metadata_drop]\n",
    "\n",
    "for query in drop_table_queries:\n",
    "    try:\n",
    "        session.execute(query)\n",
    "    except Exception as e:\n",
    "        print(e)\n"
   ]
  },
  {
   "cell_type": "markdown",
   "metadata": {},
   "source": [
    "#### Close session & connection¶"
   ]
  },
  {
   "cell_type": "code",
   "execution_count": 18,
   "metadata": {
    "pycharm": {
     "name": "#%%\n"
    }
   },
   "outputs": [],
   "source": [
    "session.shutdown()\n",
    "cluster.shutdown()"
   ]
  }
 ],
 "metadata": {
  "kernelspec": {
   "display_name": "Python 3",
   "language": "python",
   "name": "python3"
  },
  "language_info": {
   "codemirror_mode": {
    "name": "ipython",
    "version": 3
   },
   "file_extension": ".py",
   "mimetype": "text/x-python",
   "name": "python",
   "nbconvert_exporter": "python",
   "pygments_lexer": "ipython3",
   "version": "3.6.3"
  }
 },
 "nbformat": 4,
 "nbformat_minor": 2
}